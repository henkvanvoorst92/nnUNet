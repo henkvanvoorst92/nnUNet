{
 "cells": [
  {
   "cell_type": "code",
   "execution_count": 1,
   "id": "c9974ecd",
   "metadata": {
    "ExecuteTime": {
     "end_time": "2024-05-02T21:37:21.431457319Z",
     "start_time": "2024-05-02T21:37:20.574277570Z"
    }
   },
   "outputs": [],
   "source": [
    "#requires you to pip install nnunetv2 and some others\n",
    "#for install details see: https://github.com/MIC-DKFZ/nnUNet\n",
    "import nnunetv2\n",
    "from nnunetv2.dataset_conversion.generate_dataset_json import generate_dataset_json\n",
    "import os,sys\n",
    "import pandas as pd\n",
    "import torch\n",
    "import numpy as np\n",
    "from tqdm import tqdm\n",
    "from torch import nn\n",
    "from nnunetv2.training.loss.dice import SoftDiceLoss, MemoryEfficientSoftDiceLoss\n",
    "from nnunetv2.training.loss.robust_ce_loss import RobustCrossEntropyLoss, TopKLoss\n",
    "from nnunetv2.utilities.helpers import softmax_helper_dim1\n",
    "from nnunetv2.training.myloss.cldice_loss.cldice import soft_cldice\n",
    "\n",
    "#sys.path.append('/home/hvv/Documents/git_repo') #not required if in the same dir\n",
    "# from nnunet_utils.utils import np2sitk, set_env_nnunet, write_envlines_nnunet, assign_trainjobs_to_gpus\n",
    "# from nnunet_utils.preprocess import write_as_nnunet, nnunet_directory_structure, preprocess_data\n",
    "# from nnunet_utils.run import train_single_model, nnunet_train_shell"
   ]
  },
  {
   "cell_type": "code",
   "execution_count": 9,
   "id": "e72a1010",
   "metadata": {
    "ExecuteTime": {
     "end_time": "2024-05-02T23:02:38.714967037Z",
     "start_time": "2024-05-02T23:02:38.679327844Z"
    }
   },
   "outputs": [
    {
     "data": {
      "text/plain": "tensor(nan, device='cuda:0')"
     },
     "execution_count": 9,
     "metadata": {},
     "output_type": "execute_result"
    }
   ],
   "source": [
    "\n",
    "class DC_CE_clDC_loss(nn.Module):\n",
    "    def __init__(self, soft_dice_kwargs, \n",
    "                 ce_kwargs, cldice_kwargs, \n",
    "                 weight_ce=1, weight_dice=1, weight_cldice=1, \n",
    "                 ignore_label=None,\n",
    "                 dice_class=SoftDiceLoss):\n",
    "        \"\"\"\n",
    "        Weights for CE and Dice do not need to sum to one. You can set whatever you want.\n",
    "        :param soft_dice_kwargs:\n",
    "        :param ce_kwargs:\n",
    "        :param aggregate:\n",
    "        :param square_dice:\n",
    "        :param weight_ce:\n",
    "        :param weight_dice:\n",
    "        \"\"\"\n",
    "        super(DC_CE_clDC_loss, self).__init__()\n",
    "        if ignore_label is not None:\n",
    "            ce_kwargs['ignore_index'] = ignore_label\n",
    "\n",
    "        self.weight_dice = weight_dice\n",
    "        self.weight_ce = weight_ce\n",
    "        self.weight_cldice = weight_cldice\n",
    "        self.ignore_label = ignore_label\n",
    "\n",
    "        self.ce = RobustCrossEntropyLoss(**ce_kwargs)\n",
    "        self.dc = dice_class(apply_nonlin=softmax_helper_dim1, **soft_dice_kwargs)\n",
    "        self.cldc = soft_cldice(iter_=10, smooth = 1.,y_true_skel_input_channel=None,\n",
    "                                exclude_background=False, **cldice_kwargs)\n",
    "\n",
    "    def forward(self, net_output: torch.Tensor, target: torch.Tensor):\n",
    "        \"\"\"\n",
    "        target must be b, c, x, y(, z) with c=1\n",
    "        :param net_output:\n",
    "        :param target:\n",
    "        :return:\n",
    "        \"\"\"\n",
    "        if self.ignore_label is not None:\n",
    "            assert target.shape[1] == 1, 'ignore label is not implemented for one hot encoded target variables ' \\\n",
    "                                         '(DC_and_CE_loss)'\n",
    "            mask = target != self.ignore_label\n",
    "            # remove ignore label from target, replace with one of the known labels. It doesn't matter because we\n",
    "            # ignore gradients in those areas anyway\n",
    "            target_dice = torch.where(mask, target, 0)\n",
    "            num_fg = mask.sum()\n",
    "        else:\n",
    "            target_dice = target\n",
    "            mask = None\n",
    "\n",
    "        dc_loss = self.dc(net_output, target_dice, loss_mask=mask) \\\n",
    "            if self.weight_dice != 0 else 0\n",
    "        ce_loss = self.ce(net_output, target[:, 0]) \\\n",
    "            if self.weight_ce != 0 and (self.ignore_label is None or num_fg > 0) else 0\n",
    "        cldc_loss = self.cldc(net_output, target_dice) \\\n",
    "            if self.weight_cldice != 0 else 0\n",
    "\n",
    "        result = self.weight_ce * ce_loss + self.weight_dice * dc_loss + self.weight_cldice*cldc_loss\n",
    "        return result\n",
    "    \n",
    "    \n",
    "loss = DC_CE_clDC_loss({'batch_dice': 0,\n",
    "                        'smooth': 1e-5, 'do_bg': False, 'ddp': False}, {}, {}, weight_ce=1, weight_dice=1,\n",
    "                                  ignore_label=None, dice_class=MemoryEfficientSoftDiceLoss).type(torch.float32).cuda()\n",
    "\n",
    "\n",
    "x = torch.ones(1,1,32,24,24).type(torch.float32).cuda()\n",
    "y = torch.zeros(1,1,32,24,24).type(torch.float32).cuda()\n",
    "\n",
    "\n",
    "res = loss(x,y)\n",
    "res"
   ]
  },
  {
   "cell_type": "code",
   "execution_count": 9,
   "outputs": [],
   "source": [],
   "metadata": {
    "collapsed": false,
    "ExecuteTime": {
     "end_time": "2024-05-02T23:02:40.612233152Z",
     "start_time": "2024-05-02T23:02:40.606665257Z"
    }
   },
   "id": "59d37a473c648c3d"
  },
  {
   "cell_type": "code",
   "execution_count": null,
   "outputs": [],
   "source": [],
   "metadata": {
    "collapsed": false
   },
   "id": "82427192d3fc715c"
  }
 ],
 "metadata": {
  "kernelspec": {
   "display_name": "Python 3 (ipykernel)",
   "language": "python",
   "name": "python3"
  },
  "language_info": {
   "codemirror_mode": {
    "name": "ipython",
    "version": 3
   },
   "file_extension": ".py",
   "mimetype": "text/x-python",
   "name": "python",
   "nbconvert_exporter": "python",
   "pygments_lexer": "ipython3",
   "version": "3.11.5"
  }
 },
 "nbformat": 4,
 "nbformat_minor": 5
}
