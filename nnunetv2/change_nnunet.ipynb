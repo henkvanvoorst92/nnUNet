{
 "cells": [
  {
   "cell_type": "code",
   "execution_count": 4,
   "id": "initial_id",
   "metadata": {
    "collapsed": true,
    "ExecuteTime": {
     "end_time": "2024-04-24T19:46:03.245743504Z",
     "start_time": "2024-04-24T19:46:03.189065906Z"
    }
   },
   "outputs": [],
   "source": [
    "import os, sys\n",
    "import socket\n",
    "from typing import Union, Optional\n",
    "\n",
    "import nnunetv2\n",
    "import torch.cuda\n",
    "import torch.distributed as dist\n",
    "import torch.multiprocessing as mp\n",
    "from batchgenerators.utilities.file_and_folder_operations import join, isfile, load_json\n",
    "from nnunetv2.paths import nnUNet_preprocessed\n",
    "from nnunetv2.run.load_pretrained_weights import load_pretrained_weights\n",
    "from nnunetv2.training.nnUNetTrainer.nnUNetTrainer import nnUNetTrainer\n",
    "from nnunetv2.utilities.dataset_name_id_conversion import maybe_convert_to_dataset_name\n",
    "from nnunetv2.utilities.find_class_by_name import recursive_find_python_class\n",
    "from torch.backends import cudnn\n",
    "\n",
    "\n",
    "sys.path.append('/home/hvv/Documents/git_repo') \n",
    "#from nnunet_utils.run import train_single_model, nnunet_train_shell\n",
    "#from run import run_training\n",
    "\n",
    "root = '/media/hvv/ec2480e5-6c18-468c-b971-5271432b386d/hvv/graph_age_data/MRA_CTA_resegmentation/MRA_vesselseg_org_train'\n",
    "datano = '506' #this is an arbitrary number you can choose --> should not be the same as other studies\n",
    "project_name = 'MRAvseg'\n",
    "#task = f'Task{datano}_{project_name}' #this is also something you choose\n",
    "datasetID = f'Dataset{datano}_{project_name}'\n",
    "#where your train (or test) data is stored\n",
    "p_dir = os.path.join(root,'nnUNet_raw',datasetID)\n",
    "# # \n",
    "# os.environ['nnUNet_raw'] = os.path.join(root, 'nnUNet_raw')\n",
    "# os.environ['nnUNet_results'] = os.path.join(root, 'nnUNet_trained_models')\n",
    "# os.environ['nnUNet_preprocessed'] = os.path.join(root, 'nnUNet_preprocessed')\n",
    "# os.environ['MKL_THREADING_LAYER'] = os.path.join(root, 'GNU')\n",
    "# # config = 'fullres'\n",
    "# # os.system(f'nnUNetv2_train {datasetID} {config} {0}')\n",
    "# nnUNet_raw = os.environ.get('nnUNet_raw')\n",
    "# nnUNet_preprocessed = os.environ.get('nnUNet_preprocessed')\n",
    "# nnUNet_results = os.environ.get('nnUNet_results')\n",
    "\n",
    "#print(os.environ)\n"
   ]
  },
  {
   "cell_type": "code",
   "execution_count": 5,
   "outputs": [],
   "source": [
    "datano = '506' #this is an arbitrary number you can choose --> should not be the same as other studies\n",
    "project_name = 'MRAvseg'\n",
    "#task = f'Task{datano}_{project_name}' #this is also something you choose\n",
    "datasetID = f'Dataset{datano}_{project_name}'\n",
    "\n",
    "trainer_name = 'MynnUNetTrainer'\n",
    "\n",
    "# \n",
    "\n",
    "\n",
    "\n",
    "#trainer"
   ],
   "metadata": {
    "collapsed": false,
    "ExecuteTime": {
     "end_time": "2024-04-24T19:46:18.604313460Z",
     "start_time": "2024-04-24T19:46:18.587072599Z"
    }
   },
   "id": "e3a0c15903e5eac0"
  },
  {
   "cell_type": "code",
   "execution_count": 7,
   "outputs": [],
   "source": [],
   "metadata": {
    "collapsed": false,
    "ExecuteTime": {
     "end_time": "2024-04-24T19:53:11.164515819Z",
     "start_time": "2024-04-24T19:53:11.161323904Z"
    }
   },
   "id": "9949b55466dc5e78"
  },
  {
   "cell_type": "code",
   "execution_count": 8,
   "outputs": [],
   "source": [],
   "metadata": {
    "collapsed": false,
    "ExecuteTime": {
     "end_time": "2024-04-24T19:53:14.679036864Z",
     "start_time": "2024-04-24T19:53:14.668205651Z"
    }
   },
   "id": "410d7ffe8a8ac702"
  },
  {
   "cell_type": "code",
   "execution_count": 8,
   "outputs": [],
   "source": [],
   "metadata": {
    "collapsed": false,
    "ExecuteTime": {
     "end_time": "2024-04-24T19:53:12.144380566Z",
     "start_time": "2024-04-24T19:53:12.142048475Z"
    }
   },
   "id": "c928597aa20eda8e"
  },
  {
   "cell_type": "code",
   "execution_count": 3,
   "outputs": [],
   "source": [],
   "metadata": {
    "collapsed": false,
    "ExecuteTime": {
     "end_time": "2024-04-22T18:28:57.347981309Z",
     "start_time": "2024-04-22T18:28:57.346456280Z"
    }
   },
   "id": "fe092f4cafe6ddbd"
  },
  {
   "cell_type": "code",
   "execution_count": null,
   "outputs": [],
   "source": [],
   "metadata": {
    "collapsed": false
   },
   "id": "35bf6ace19639385"
  }
 ],
 "metadata": {
  "kernelspec": {
   "display_name": "Python 3",
   "language": "python",
   "name": "python3"
  },
  "language_info": {
   "codemirror_mode": {
    "name": "ipython",
    "version": 2
   },
   "file_extension": ".py",
   "mimetype": "text/x-python",
   "name": "python",
   "nbconvert_exporter": "python",
   "pygments_lexer": "ipython2",
   "version": "2.7.6"
  }
 },
 "nbformat": 4,
 "nbformat_minor": 5
}
